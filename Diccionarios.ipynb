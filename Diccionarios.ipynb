{
 "cells": [
  {
   "cell_type": "markdown",
   "id": "a967e425-1c45-432c-ba9f-4cfd33752aad",
   "metadata": {},
   "source": [
    "DICCIONARIOS\n",
    "\n",
    "Diccionarios son colecciones de datos en Python.\n",
    "Recuerda que una lista es un indice de \"integers\" y \"elementos\".  \n",
    "Un diccionario tiene \"keys\" y \"valores\", donde las claves son como indices.\n",
    "Para crear diccionarios debemos usar \"{ }\".  \n",
    "Keys no pueden ser cambiados. Tambien deben ser unicos.  \n",
    "Cada Key tiene su propio valor y se define con \" : \" y se separan con \" , \"."
   ]
  },
  {
   "cell_type": "code",
   "execution_count": 1,
   "id": "6969a55a-f1e0-419e-b80b-4de585a3e9d8",
   "metadata": {},
   "outputs": [
    {
     "name": "stdout",
     "output_type": "stream",
     "text": [
      "Edad =  23\n"
     ]
    },
    {
     "data": {
      "text/plain": [
       "{'Carlos': 19, 'Claudio': 23, 'Francisco': 33}"
      ]
     },
     "execution_count": 1,
     "metadata": {},
     "output_type": "execute_result"
    }
   ],
   "source": [
    "# Ejemplo 1:\n",
    "diccionario_1 = {'Carlos': 19, 'Claudio': 23, 'Francisco': 33}\n",
    "print('Edad = ', diccionario_1['Claudio'])\n",
    "diccionario_1"
   ]
  },
  {
   "cell_type": "code",
   "execution_count": 7,
   "id": "79840424-e8ac-4118-ab59-07cbcdbdef8c",
   "metadata": {},
   "outputs": [
    {
     "data": {
      "text/plain": [
       "{2018: '$35.000', 2019: '$39.000', 2020: '$28.000', 2021: '44.000'}"
      ]
     },
     "execution_count": 7,
     "metadata": {},
     "output_type": "execute_result"
    }
   ],
   "source": [
    "# Los 'keys' tambien pueden ser integers:\n",
    "diccionario_2 =  {2018: '$35.000', 2019: '$39.000', 2020: '$28.000', 2021: '44.000'}\n",
    "diccionario_2"
   ]
  },
  {
   "cell_type": "code",
   "execution_count": 14,
   "id": "1ba901c1-a5c5-4116-be7e-216818b070d0",
   "metadata": {},
   "outputs": [
    {
     "data": {
      "text/plain": [
       "{(0, 14): 'ninos',\n",
       " (15, 29): 'jovenes',\n",
       " (30, 59): 'adultos',\n",
       " (65, 'y mas'): 'adultos mayores'}"
      ]
     },
     "execution_count": 14,
     "metadata": {},
     "output_type": "execute_result"
    }
   ],
   "source": [
    "# Los 'keys' tambien pueden ser Tuples:\n",
    "diccionario_3 = {(0, 14): 'ninos', (15, 29): 'jovenes', (30, 59): 'adultos', (65, 'y mas'): 'adultos mayores',}\n",
    "diccionario_3"
   ]
  },
  {
   "cell_type": "code",
   "execution_count": 17,
   "id": "85535209-11ab-43e8-a1d8-1599dd15969d",
   "metadata": {},
   "outputs": [
    {
     "data": {
      "text/plain": [
       "'jovenes'"
      ]
     },
     "execution_count": 17,
     "metadata": {},
     "output_type": "execute_result"
    }
   ],
   "source": [
    "# Acceso a valores por su respectivo 'key'\n",
    "diccionario_3[(15, 29)]"
   ]
  },
  {
   "cell_type": "code",
   "execution_count": 9,
   "id": "2b585f25-eb30-4925-bc2f-d4f3b306cf82",
   "metadata": {},
   "outputs": [
    {
     "data": {
      "text/plain": [
       "{'Carlos': 19, 'Francisco': 33, 'Pamela': '30'}"
      ]
     },
     "execution_count": 9,
     "metadata": {},
     "output_type": "execute_result"
    }
   ],
   "source": [
    "# Agregar nuevos valores al diccionario.\n",
    "diccionario_1['Pamela'] = '30'\n",
    "diccionario_1"
   ]
  },
  {
   "cell_type": "code",
   "execution_count": 4,
   "id": "88b0078f-6efc-4e8d-a34b-23e52d278fb7",
   "metadata": {},
   "outputs": [
    {
     "data": {
      "text/plain": [
       "{'Carlos': 19, 'Francisco': 33, 'Pamela': '30'}"
      ]
     },
     "execution_count": 4,
     "metadata": {},
     "output_type": "execute_result"
    }
   ],
   "source": [
    "# Eliminar valores del diccionario.\n",
    "del diccionario_1['Claudio']\n",
    "diccionario_1"
   ]
  },
  {
   "cell_type": "code",
   "execution_count": null,
   "id": "bf6d9f84-9fc6-489e-8125-47f8405e65b9",
   "metadata": {},
   "outputs": [],
   "source": [
    "# Verificar si un Key existe:\n",
    "x = print('Pamela' in diccionario)\n",
    "y = print('Claudio' in diccionario)"
   ]
  },
  {
   "cell_type": "code",
   "execution_count": 21,
   "id": "b7b769de-fea0-40c3-ae9c-6095a14ce851",
   "metadata": {},
   "outputs": [
    {
     "name": "stdout",
     "output_type": "stream",
     "text": [
      "dict_keys(['Carlos', 'Francisco', 'Pamela'])\n",
      "dict_values([19, 33, '30'])\n"
     ]
    }
   ],
   "source": [
    "# Para verificar todos los keys de un diccionario:\n",
    "print(diccionario_1.keys())\n",
    "\n",
    "# Para verificar todos los elementos de un diccionario:\n",
    "print(diccionario_2.values())"
   ]
  }
 ],
 "metadata": {
  "kernelspec": {
   "display_name": "Python 3",
   "language": "python",
   "name": "python3"
  },
  "language_info": {
   "codemirror_mode": {
    "name": "ipython",
    "version": 3
   },
   "file_extension": ".py",
   "mimetype": "text/x-python",
   "name": "python",
   "nbconvert_exporter": "python",
   "pygments_lexer": "ipython3",
   "version": "3.9.5"
  }
 },
 "nbformat": 4,
 "nbformat_minor": 5
}
